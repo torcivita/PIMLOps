{
 "cells": [
  {
   "cell_type": "code",
   "execution_count": 1,
   "metadata": {},
   "outputs": [],
   "source": [
    "import pandas as pd\n",
    "import numpy as np\n",
    "\n",
    "from sklearn.feature_extraction.text import CountVectorizer\n",
    "from sklearn.metrics.pairwise import cosine_similarity"
   ]
  },
  {
   "cell_type": "markdown",
   "metadata": {},
   "source": [
    "# **ANÁLISIS**"
   ]
  },
  {
   "cell_type": "markdown",
   "metadata": {},
   "source": [
    "Importamos el archivo `steam_games.parquet` (archivo creado en el proceso de ETL)"
   ]
  },
  {
   "cell_type": "code",
   "execution_count": null,
   "metadata": {},
   "outputs": [],
   "source": [
    "steam_games = pd.read_parquet('..\\\\Dataset\\\\steam_games.parquet')\n",
    "steam_games"
   ]
  },
  {
   "cell_type": "markdown",
   "metadata": {},
   "source": [
    "Convertimos las columnas `genres`, `tags` y `specs` a cadenas de texto para realizar el Proceso de Lenguaje Natural"
   ]
  },
  {
   "cell_type": "code",
   "execution_count": null,
   "metadata": {},
   "outputs": [],
   "source": [
    "steam_games['genres'] = steam_games['genres'].apply(lambda lista: \", \".join(lista))\n",
    "steam_games['tags'] = steam_games['tags'].apply(lambda lista: \", \".join(lista))\n",
    "steam_games['specs'] = steam_games['specs'].apply(lambda lista: \", \".join(lista))"
   ]
  },
  {
   "cell_type": "markdown",
   "metadata": {},
   "source": [
    "Concatenamos las tres columnas anteriores en una única columna llamada `description` y las eliminamos. Además, eliminamos la columna `release_date`."
   ]
  },
  {
   "cell_type": "code",
   "execution_count": null,
   "metadata": {},
   "outputs": [],
   "source": [
    "steam_games['description'] = steam_games['genres'] + ', ' + steam_games['tags'] + ', ' + steam_games['specs']\n",
    "steam_games.drop(columns=['genres', 'tags', 'specs', 'release_date'], inplace=True)\n",
    "steam_games"
   ]
  },
  {
   "cell_type": "markdown",
   "metadata": {},
   "source": [
    "Para realizar el proceso de Machine Learning para la función de recomendación de juegos, utilizaremos la propuesta de trabajo que tiene una relación relación ítem-ítem. El objetivo es tomar un item y, en base a que tan similar esa ese ítem al resto, se recomiendan similares. Aquí el input es un juego y el output es una lista de juegos recomendados"
   ]
  },
  {
   "cell_type": "markdown",
   "metadata": {},
   "source": [
    "Utilizamos la clase **CountVectorizer** de scikit para convertir las descripciones de la columna en representaciones numéricas."
   ]
  },
  {
   "cell_type": "code",
   "execution_count": null,
   "metadata": {},
   "outputs": [],
   "source": [
    "# Creamos una instancia de la clase CountVectorizer\n",
    "vector = CountVectorizer(tokenizer= lambda x: x.split(', '))\n",
    "\n",
    "# Dividimos cada cadena de descripción en palabras individuales y se crea una matriz de conteo que representa cuántas veces aparece cada género en cada videojuego.\n",
    "matriz_descripcion = vector.fit_transform(steam_games['description'])"
   ]
  },
  {
   "cell_type": "code",
   "execution_count": null,
   "metadata": {},
   "outputs": [],
   "source": [
    "def recomendacion_juego(id_producto: int):\n",
    "    '''\n",
    "    Se ingresa el id de producto (item_id) y retorna una lista con 5 juegos recomendados similares al ingresado (title).\n",
    "    \n",
    "    '''\n",
    "    # Si el id ingresado no se encuentra en la columna de id de la tabla 'steam_games' se le pide al usuario que intente con otro id\n",
    "    if id_producto not in steam_games['item_id'].values:\n",
    "        return 'El ID no existe, intente con otro'\n",
    "    else:\n",
    "        # buscamos el índice del id ingresado\n",
    "        index = steam_games.index[steam_games['item_id']==id_producto][0]\n",
    "\n",
    "        # De la matriz de conteo, tomamos el array de descripciones con índice igual a 'index'\n",
    "        description_index = matriz_descripcion[index]\n",
    "\n",
    "        # Calculamos la similitud coseno entre la descripción de entrada y la descripción de las demás filas: cosine_similarity(description_index, matriz_descripcion)\n",
    "        # Obtenemos los índices de las mayores similitudes mediante el método argsort() y las similitudes ordenadas de manera descendente\n",
    "        # Tomamos los índices del 1 al 6 [0, 1:6] ya que el índice 0 es el mismo índice de entrada\n",
    "        indices_maximos = np.argsort(-cosine_similarity(description_index, matriz_descripcion))[0, 1:6]\n",
    "\n",
    "        # Construimos la lista\n",
    "        recomendaciones = []\n",
    "        for i in indices_maximos:\n",
    "            recomendaciones.append(steam_games['title'][i])\n",
    "        \n",
    "        return recomendaciones"
   ]
  }
 ],
 "metadata": {
  "kernelspec": {
   "display_name": "Python 3",
   "language": "python",
   "name": "python3"
  },
  "language_info": {
   "codemirror_mode": {
    "name": "ipython",
    "version": 3
   },
   "file_extension": ".py",
   "mimetype": "text/x-python",
   "name": "python",
   "nbconvert_exporter": "python",
   "pygments_lexer": "ipython3",
   "version": "3.11.4"
  }
 },
 "nbformat": 4,
 "nbformat_minor": 2
}
