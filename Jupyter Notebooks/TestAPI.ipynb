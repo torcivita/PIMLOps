{
 "cells": [
  {
   "cell_type": "code",
   "execution_count": 2,
   "metadata": {},
   "outputs": [],
   "source": [
    "import numpy as np\n",
    "import pandas as pd\n",
    "\n",
    "from sklearn.feature_extraction.text import CountVectorizer\n",
    "from sklearn.metrics.pairwise import cosine_similarity"
   ]
  },
  {
   "cell_type": "markdown",
   "metadata": {},
   "source": [
    "Cargamos las tablas normalizadas (archivos creados en el proceso de ETL)"
   ]
  },
  {
   "cell_type": "code",
   "execution_count": 4,
   "metadata": {},
   "outputs": [],
   "source": [
    "items_games = pd.read_parquet('..\\\\Archivos API\\\\items_games_API.parquet')\n",
    "reviews_games = pd.read_parquet('..\\\\Archivos API\\\\reviews_games.parquet')"
   ]
  },
  {
   "cell_type": "code",
   "execution_count": 5,
   "metadata": {},
   "outputs": [
    {
     "data": {
      "text/html": [
       "<div>\n",
       "<style scoped>\n",
       "    .dataframe tbody tr th:only-of-type {\n",
       "        vertical-align: middle;\n",
       "    }\n",
       "\n",
       "    .dataframe tbody tr th {\n",
       "        vertical-align: top;\n",
       "    }\n",
       "\n",
       "    .dataframe thead th {\n",
       "        text-align: right;\n",
       "    }\n",
       "</style>\n",
       "<table border=\"1\" class=\"dataframe\">\n",
       "  <thead>\n",
       "    <tr style=\"text-align: right;\">\n",
       "      <th></th>\n",
       "      <th>genres</th>\n",
       "      <th>year_release</th>\n",
       "      <th>playtime_forever</th>\n",
       "      <th>user_id</th>\n",
       "    </tr>\n",
       "  </thead>\n",
       "  <tbody>\n",
       "    <tr>\n",
       "      <th>0</th>\n",
       "      <td>Action</td>\n",
       "      <td>2000</td>\n",
       "      <td>6</td>\n",
       "      <td>76561197970982479</td>\n",
       "    </tr>\n",
       "    <tr>\n",
       "      <th>1</th>\n",
       "      <td>Action</td>\n",
       "      <td>2000</td>\n",
       "      <td>0</td>\n",
       "      <td>js41637</td>\n",
       "    </tr>\n",
       "    <tr>\n",
       "      <th>2</th>\n",
       "      <td>Action</td>\n",
       "      <td>2000</td>\n",
       "      <td>0</td>\n",
       "      <td>Riot-Punch</td>\n",
       "    </tr>\n",
       "    <tr>\n",
       "      <th>3</th>\n",
       "      <td>Action</td>\n",
       "      <td>2000</td>\n",
       "      <td>93</td>\n",
       "      <td>doctr</td>\n",
       "    </tr>\n",
       "    <tr>\n",
       "      <th>4</th>\n",
       "      <td>Action</td>\n",
       "      <td>2000</td>\n",
       "      <td>108</td>\n",
       "      <td>corrupted_soul</td>\n",
       "    </tr>\n",
       "    <tr>\n",
       "      <th>...</th>\n",
       "      <td>...</td>\n",
       "      <td>...</td>\n",
       "      <td>...</td>\n",
       "      <td>...</td>\n",
       "    </tr>\n",
       "    <tr>\n",
       "      <th>7461478</th>\n",
       "      <td>Indie</td>\n",
       "      <td>2016</td>\n",
       "      <td>46</td>\n",
       "      <td>76561198071808318</td>\n",
       "    </tr>\n",
       "    <tr>\n",
       "      <th>7461479</th>\n",
       "      <td>Action</td>\n",
       "      <td>2016</td>\n",
       "      <td>164</td>\n",
       "      <td>76561198107283457</td>\n",
       "    </tr>\n",
       "    <tr>\n",
       "      <th>7461480</th>\n",
       "      <td>Casual</td>\n",
       "      <td>2016</td>\n",
       "      <td>164</td>\n",
       "      <td>76561198107283457</td>\n",
       "    </tr>\n",
       "    <tr>\n",
       "      <th>7461481</th>\n",
       "      <td>Indie</td>\n",
       "      <td>2016</td>\n",
       "      <td>164</td>\n",
       "      <td>76561198107283457</td>\n",
       "    </tr>\n",
       "    <tr>\n",
       "      <th>7461482</th>\n",
       "      <td>Simulation</td>\n",
       "      <td>2016</td>\n",
       "      <td>164</td>\n",
       "      <td>76561198107283457</td>\n",
       "    </tr>\n",
       "  </tbody>\n",
       "</table>\n",
       "<p>7461483 rows × 4 columns</p>\n",
       "</div>"
      ],
      "text/plain": [
       "             genres  year_release  playtime_forever            user_id\n",
       "0            Action          2000                 6  76561197970982479\n",
       "1            Action          2000                 0            js41637\n",
       "2            Action          2000                 0         Riot-Punch\n",
       "3            Action          2000                93              doctr\n",
       "4            Action          2000               108     corrupted_soul\n",
       "...             ...           ...               ...                ...\n",
       "7461478       Indie          2016                46  76561198071808318\n",
       "7461479      Action          2016               164  76561198107283457\n",
       "7461480      Casual          2016               164  76561198107283457\n",
       "7461481       Indie          2016               164  76561198107283457\n",
       "7461482  Simulation          2016               164  76561198107283457\n",
       "\n",
       "[7461483 rows x 4 columns]"
      ]
     },
     "execution_count": 5,
     "metadata": {},
     "output_type": "execute_result"
    }
   ],
   "source": [
    "items_games"
   ]
  },
  {
   "cell_type": "code",
   "execution_count": 6,
   "metadata": {},
   "outputs": [
    {
     "data": {
      "text/html": [
       "<div>\n",
       "<style scoped>\n",
       "    .dataframe tbody tr th:only-of-type {\n",
       "        vertical-align: middle;\n",
       "    }\n",
       "\n",
       "    .dataframe tbody tr th {\n",
       "        vertical-align: top;\n",
       "    }\n",
       "\n",
       "    .dataframe thead th {\n",
       "        text-align: right;\n",
       "    }\n",
       "</style>\n",
       "<table border=\"1\" class=\"dataframe\">\n",
       "  <thead>\n",
       "    <tr style=\"text-align: right;\">\n",
       "      <th></th>\n",
       "      <th>user_id</th>\n",
       "      <th>posted</th>\n",
       "      <th>item_id</th>\n",
       "      <th>recommend</th>\n",
       "      <th>sentiment_analysis</th>\n",
       "      <th>year_posted</th>\n",
       "      <th>title</th>\n",
       "      <th>genres</th>\n",
       "      <th>release_date</th>\n",
       "      <th>year_release</th>\n",
       "    </tr>\n",
       "  </thead>\n",
       "  <tbody>\n",
       "    <tr>\n",
       "      <th>0</th>\n",
       "      <td>76561197970982479</td>\n",
       "      <td>2011-11-05</td>\n",
       "      <td>1250</td>\n",
       "      <td>1</td>\n",
       "      <td>2</td>\n",
       "      <td>2011</td>\n",
       "      <td>Killing Floor</td>\n",
       "      <td>Action</td>\n",
       "      <td>2009-05-14</td>\n",
       "      <td>2009</td>\n",
       "    </tr>\n",
       "    <tr>\n",
       "      <th>1</th>\n",
       "      <td>death-hunter</td>\n",
       "      <td>2015-03-30</td>\n",
       "      <td>1250</td>\n",
       "      <td>1</td>\n",
       "      <td>2</td>\n",
       "      <td>2015</td>\n",
       "      <td>Killing Floor</td>\n",
       "      <td>Action</td>\n",
       "      <td>2009-05-14</td>\n",
       "      <td>2009</td>\n",
       "    </tr>\n",
       "    <tr>\n",
       "      <th>2</th>\n",
       "      <td>DJKamBer</td>\n",
       "      <td>2013-07-12</td>\n",
       "      <td>1250</td>\n",
       "      <td>1</td>\n",
       "      <td>0</td>\n",
       "      <td>2013</td>\n",
       "      <td>Killing Floor</td>\n",
       "      <td>Action</td>\n",
       "      <td>2009-05-14</td>\n",
       "      <td>2009</td>\n",
       "    </tr>\n",
       "    <tr>\n",
       "      <th>3</th>\n",
       "      <td>diego9031</td>\n",
       "      <td>2015-08-13</td>\n",
       "      <td>1250</td>\n",
       "      <td>1</td>\n",
       "      <td>1</td>\n",
       "      <td>2015</td>\n",
       "      <td>Killing Floor</td>\n",
       "      <td>Action</td>\n",
       "      <td>2009-05-14</td>\n",
       "      <td>2009</td>\n",
       "    </tr>\n",
       "    <tr>\n",
       "      <th>4</th>\n",
       "      <td>76561198081962345</td>\n",
       "      <td>2014-04-05</td>\n",
       "      <td>1250</td>\n",
       "      <td>1</td>\n",
       "      <td>1</td>\n",
       "      <td>2014</td>\n",
       "      <td>Killing Floor</td>\n",
       "      <td>Action</td>\n",
       "      <td>2009-05-14</td>\n",
       "      <td>2009</td>\n",
       "    </tr>\n",
       "    <tr>\n",
       "      <th>...</th>\n",
       "      <td>...</td>\n",
       "      <td>...</td>\n",
       "      <td>...</td>\n",
       "      <td>...</td>\n",
       "      <td>...</td>\n",
       "      <td>...</td>\n",
       "      <td>...</td>\n",
       "      <td>...</td>\n",
       "      <td>...</td>\n",
       "      <td>...</td>\n",
       "    </tr>\n",
       "    <tr>\n",
       "      <th>101582</th>\n",
       "      <td>Gamer0009</td>\n",
       "      <td>2015-08-11</td>\n",
       "      <td>306040</td>\n",
       "      <td>1</td>\n",
       "      <td>2</td>\n",
       "      <td>2015</td>\n",
       "      <td>The Howler</td>\n",
       "      <td>Simulation</td>\n",
       "      <td>2016-04-21</td>\n",
       "      <td>2016</td>\n",
       "    </tr>\n",
       "    <tr>\n",
       "      <th>101583</th>\n",
       "      <td>Gamer0009</td>\n",
       "      <td>2015-08-11</td>\n",
       "      <td>306040</td>\n",
       "      <td>1</td>\n",
       "      <td>2</td>\n",
       "      <td>2015</td>\n",
       "      <td>The Howler</td>\n",
       "      <td>Strategy</td>\n",
       "      <td>2016-04-21</td>\n",
       "      <td>2016</td>\n",
       "    </tr>\n",
       "    <tr>\n",
       "      <th>101584</th>\n",
       "      <td>llDracuwulf</td>\n",
       "      <td>2015-10-29</td>\n",
       "      <td>307130</td>\n",
       "      <td>1</td>\n",
       "      <td>2</td>\n",
       "      <td>2015</td>\n",
       "      <td>Asteria</td>\n",
       "      <td>Action</td>\n",
       "      <td>2014-07-03</td>\n",
       "      <td>2014</td>\n",
       "    </tr>\n",
       "    <tr>\n",
       "      <th>101585</th>\n",
       "      <td>llDracuwulf</td>\n",
       "      <td>2015-10-29</td>\n",
       "      <td>307130</td>\n",
       "      <td>1</td>\n",
       "      <td>2</td>\n",
       "      <td>2015</td>\n",
       "      <td>Asteria</td>\n",
       "      <td>Adventure</td>\n",
       "      <td>2014-07-03</td>\n",
       "      <td>2014</td>\n",
       "    </tr>\n",
       "    <tr>\n",
       "      <th>101586</th>\n",
       "      <td>llDracuwulf</td>\n",
       "      <td>2015-10-29</td>\n",
       "      <td>307130</td>\n",
       "      <td>1</td>\n",
       "      <td>2</td>\n",
       "      <td>2015</td>\n",
       "      <td>Asteria</td>\n",
       "      <td>Indie</td>\n",
       "      <td>2014-07-03</td>\n",
       "      <td>2014</td>\n",
       "    </tr>\n",
       "  </tbody>\n",
       "</table>\n",
       "<p>101587 rows × 10 columns</p>\n",
       "</div>"
      ],
      "text/plain": [
       "                  user_id     posted  item_id  recommend  sentiment_analysis  \\\n",
       "0       76561197970982479 2011-11-05     1250          1                   2   \n",
       "1            death-hunter 2015-03-30     1250          1                   2   \n",
       "2                DJKamBer 2013-07-12     1250          1                   0   \n",
       "3               diego9031 2015-08-13     1250          1                   1   \n",
       "4       76561198081962345 2014-04-05     1250          1                   1   \n",
       "...                   ...        ...      ...        ...                 ...   \n",
       "101582          Gamer0009 2015-08-11   306040          1                   2   \n",
       "101583          Gamer0009 2015-08-11   306040          1                   2   \n",
       "101584        llDracuwulf 2015-10-29   307130          1                   2   \n",
       "101585        llDracuwulf 2015-10-29   307130          1                   2   \n",
       "101586        llDracuwulf 2015-10-29   307130          1                   2   \n",
       "\n",
       "        year_posted          title      genres release_date  year_release  \n",
       "0              2011  Killing Floor      Action   2009-05-14          2009  \n",
       "1              2015  Killing Floor      Action   2009-05-14          2009  \n",
       "2              2013  Killing Floor      Action   2009-05-14          2009  \n",
       "3              2015  Killing Floor      Action   2009-05-14          2009  \n",
       "4              2014  Killing Floor      Action   2009-05-14          2009  \n",
       "...             ...            ...         ...          ...           ...  \n",
       "101582         2015     The Howler  Simulation   2016-04-21          2016  \n",
       "101583         2015     The Howler    Strategy   2016-04-21          2016  \n",
       "101584         2015        Asteria      Action   2014-07-03          2014  \n",
       "101585         2015        Asteria   Adventure   2014-07-03          2014  \n",
       "101586         2015        Asteria       Indie   2014-07-03          2014  \n",
       "\n",
       "[101587 rows x 10 columns]"
      ]
     },
     "execution_count": 6,
     "metadata": {},
     "output_type": "execute_result"
    }
   ],
   "source": [
    "reviews_games"
   ]
  },
  {
   "cell_type": "markdown",
   "metadata": {},
   "source": [
    "Vemos cuáles son los distintos géneros"
   ]
  },
  {
   "cell_type": "code",
   "execution_count": 7,
   "metadata": {},
   "outputs": [
    {
     "data": {
      "text/plain": [
       "array(['Action', 'RPG', 'Strategy', 'Casual', 'Simulation', 'Indie',\n",
       "       'Racing', 'Sports', 'Adventure', 'Early Access', 'Free to Play',\n",
       "       'Massively Multiplayer', 'Utilities', 'Animation &amp; Modeling',\n",
       "       'Video Production', 'Design &amp; Illustration', 'Web Publishing',\n",
       "       'Education', 'Software Training', 'Photo Editing',\n",
       "       'Audio Production'], dtype=object)"
      ]
     },
     "execution_count": 7,
     "metadata": {},
     "output_type": "execute_result"
    }
   ],
   "source": [
    "generos = items_games['genres'].unique()\n",
    "generos"
   ]
  },
  {
   "cell_type": "markdown",
   "metadata": {},
   "source": [
    "# **FUNCIONES**"
   ]
  },
  {
   "cell_type": "markdown",
   "metadata": {},
   "source": [
    "1) PlayTimeGenre"
   ]
  },
  {
   "cell_type": "code",
   "execution_count": 8,
   "metadata": {},
   "outputs": [],
   "source": [
    "def PlayTimeGenre(genero: str):\n",
    "    '''\n",
    "    Devuelve el año con más horas jugadas para el género de entrada\n",
    "\n",
    "    Args: \n",
    "        genero (str): género de juego del que se quiere averiguar cuál fue el año en el que más se jugó.\n",
    "\n",
    "    return:\n",
    "        dict: diccionario donde la clave es el género y el valor es el año con más horas jugadas.\n",
    "    \n",
    "    '''\n",
    "    # Filtramos el dataframe 'items_games' por género\n",
    "    df_util = items_games[items_games['genres']== genero]\n",
    "    \n",
    "    # Agrupamos el dataframe anterior por año de lanzamiento, suma de minutos de juego y ordenamos en forma descendente\n",
    "    df_agrupado = df_util.groupby('year_release')['playtime_forever'].sum().sort_values(ascending=False)\n",
    "\n",
    "    # Como están ordenados de manera descendente, el valor máximo tendrá el índice [0]\n",
    "    anio = df_agrupado.index[0]\n",
    "    \n",
    "    return {f\"Año de lanzamiento con más horas jugadas para el género {genero}\": int(anio)}"
   ]
  },
  {
   "cell_type": "code",
   "execution_count": 9,
   "metadata": {},
   "outputs": [
    {
     "data": {
      "text/plain": [
       "{'Año de lanzamiento con más horas jugadas para el género Strategy': 2015}"
      ]
     },
     "execution_count": 9,
     "metadata": {},
     "output_type": "execute_result"
    }
   ],
   "source": [
    "genero = PlayTimeGenre('Strategy')\n",
    "genero"
   ]
  },
  {
   "cell_type": "markdown",
   "metadata": {},
   "source": [
    "2) UserForGenre"
   ]
  },
  {
   "cell_type": "code",
   "execution_count": 10,
   "metadata": {},
   "outputs": [],
   "source": [
    "def UserForGenre(genero: str):\n",
    "    '''\n",
    "    Devuelve el usuario con más minutos jugados para el género de entrada\n",
    "\n",
    "    Args: \n",
    "        genero (str): género de juego del que se quiere averiguar cuál fue el usuario con más horas jugadas.\n",
    "\n",
    "    return:\n",
    "        dict: diccionario donde hay dos valores:el usuario con más horas jugadas para ese género, y la cantidad total de horas que jugó cada año.\n",
    "    \n",
    "    '''\n",
    "    # Filtramos el dataframe 'items_games' respecto al parámetro genero\n",
    "    df_util = items_games[items_games['genres']== genero]\n",
    "\n",
    "    # Agrupamos el dataframe anterior por usuario, sumamos los minutos de juego y ordenamos en forma descendente\n",
    "    df_agrupado = df_util.groupby('user_id')['playtime_forever'].sum().sort_values(ascending=False)\n",
    "\n",
    "    # Como están ordenados de manera descendente, el valor máximo tendrá el índice [0]\n",
    "    user = df_agrupado.index[0]\n",
    "\n",
    "    # Tomamos las filas del dataframe util que contengan su repsectivo usuario (user)\n",
    "    df_genero_user = df_util[df_util['user_id']==user]\n",
    "\n",
    "    # Agrupamos respecto a los años y suma de minutos de juego\n",
    "    minutos_jugados = round(df_genero_user.groupby('year_release')['playtime_forever'].sum(), 3)\n",
    "\n",
    "    # Guardamos la serie 'minutos_jugados' en una lista\n",
    "    lista_minutos_jugados = [f'Año: {int(anio)}, Horas: {horas}' for anio, horas in minutos_jugados.items()]\n",
    "\n",
    "    return {f\"Usuario con más horas jugadas para género {genero}\": user, \"Horas jugadas\": lista_minutos_jugados}"
   ]
  },
  {
   "cell_type": "code",
   "execution_count": 11,
   "metadata": {},
   "outputs": [
    {
     "data": {
      "text/plain": [
       "{'Usuario con más horas jugadas para género Action': 'REBAS_AS_F-T',\n",
       " 'Horas jugadas': ['Año: 1996, Horas: 0',\n",
       "  'Año: 1998, Horas: 2',\n",
       "  'Año: 1999, Horas: 225',\n",
       "  'Año: 2000, Horas: 0',\n",
       "  'Año: 2001, Horas: 11',\n",
       "  'Año: 2002, Horas: 1',\n",
       "  'Año: 2003, Horas: 1863',\n",
       "  'Año: 2004, Horas: 2115',\n",
       "  'Año: 2005, Horas: 3293',\n",
       "  'Año: 2006, Horas: 138',\n",
       "  'Año: 2007, Horas: 375',\n",
       "  'Año: 2008, Horas: 2573',\n",
       "  'Año: 2009, Horas: 7926',\n",
       "  'Año: 2010, Horas: 4460',\n",
       "  'Año: 2011, Horas: 37705',\n",
       "  'Año: 2012, Horas: 50635',\n",
       "  'Año: 2013, Horas: 97566',\n",
       "  'Año: 2014, Horas: 158114',\n",
       "  'Año: 2015, Horas: 162452',\n",
       "  'Año: 2016, Horas: 138572',\n",
       "  'Año: 2017, Horas: 1990']}"
      ]
     },
     "execution_count": 11,
     "metadata": {},
     "output_type": "execute_result"
    }
   ],
   "source": [
    "usuario = UserForGenre('Action')\n",
    "usuario"
   ]
  },
  {
   "cell_type": "markdown",
   "metadata": {},
   "source": [
    "3) UserRecommend"
   ]
  },
  {
   "cell_type": "code",
   "execution_count": 12,
   "metadata": {},
   "outputs": [],
   "source": [
    "def UsersRecommend(anio: int):\n",
    "    '''\n",
    "    Devuelve el top 3 de juegos MÁS recomendados por usuarios para el año dado.\n",
    "    \n",
    "    Args: \n",
    "        anio (int): año del que se quiere saber el top 3 juegos más recomendados.\n",
    "\n",
    "    return:\n",
    "        dict: diccionario con los 3 juegos más recomendados por usuarios\n",
    "        ->  reviews['recommend'] = True(1)\n",
    "        ->  comentarios positivos(2) o neutros(1)\n",
    "\n",
    "    '''\n",
    "    # Si el tipo de dato ingresado no es de tipo entero, retorna un mensaje de error.\n",
    "    if type(anio) != int:\n",
    "        return f\"El formato del dato ingresado es incorrecto, se espera una entrada del tipo 'int'\"\n",
    "    \n",
    "    else:\n",
    "        # Si el año de entrada no correasponde a algún año de los que se hizo reseña (year_posted), retorna un mensaje de error.\n",
    "        if anio not in reviews_games['year_posted'].unique():\n",
    "            return f\"El año ingresado se encuentra fuera del rango de registros, intente nuevamente\"\n",
    "        \n",
    "        else:\n",
    "            # Filtramos el dataframe por las filas donde el año de posteo (year_posted) no es menor al año de publicación (year_release).\n",
    "            df = reviews_games[reviews_games['year_posted']>=reviews_games['year_release']]\n",
    "            \n",
    "            # Filtramos el dataframe 'df' para el año parámetro y donde la columna 'sentiment_analysis' sea positiva (2) o neutra (1)\n",
    "            df_anio = df[(df['year_posted']==anio) & (df['sentiment_analysis'].isin([1,2]))]\n",
    "\n",
    "            # Agrupamos el dataframe 'df_anio' por el título del juego (title), sumamos las recomendaciones (recommend) para obtener los juegos más recomendados, y ordenamos de forma descendente.\n",
    "            top = df_anio.groupby('title')['recommend'].sum().sort_values(ascending=False)\n",
    "\n",
    "            # Construimos el top 3 de juegos más recomendados por los usuarios.\n",
    "            top_tres = [{\"Puesto 1\": top.index[0]}, {\"Puesto 2\": top.index[1]}, {\"Puesto 3\": top.index[2]}]\n",
    "\n",
    "    return top_tres"
   ]
  },
  {
   "cell_type": "code",
   "execution_count": 13,
   "metadata": {},
   "outputs": [
    {
     "data": {
      "text/plain": [
       "[{'Puesto 1': 'Team Fortress 2'},\n",
       " {'Puesto 2': 'Terraria'},\n",
       " {'Puesto 3': 'Portal 2'}]"
      ]
     },
     "execution_count": 13,
     "metadata": {},
     "output_type": "execute_result"
    }
   ],
   "source": [
    "top_3 = UsersRecommend(2011)\n",
    "top_3"
   ]
  },
  {
   "cell_type": "markdown",
   "metadata": {},
   "source": [
    "4) UsersNotRecommend"
   ]
  },
  {
   "cell_type": "code",
   "execution_count": 14,
   "metadata": {},
   "outputs": [],
   "source": [
    "def UsersNotRecommend(anio: int):\n",
    "    '''\n",
    "    Devuelve el top 3 de juegos MENOS recomendados por usuarios para el año dado\n",
    "    \n",
    "    Args: \n",
    "        anio (int): año del que se quiere saber el top 3 juegos menos recomendados.\n",
    "\n",
    "    return:\n",
    "        dict: diccionario con los 3 juegos menos recomendados por usuarios\n",
    "        ->  reviews['recommend'] = False(0)\n",
    "        ->  comentarios negativos(reviews['sentiment_analysis']==0)\n",
    "\n",
    "    '''\n",
    "    # Si el tipo de dato ingresado no es de tipo entero, retorna un mensaje de error.\n",
    "    if type(anio) != int:\n",
    "        return f\"El formato del dato ingresado es incorrecto, se espera una entrada del tipo 'int'\"\n",
    "    \n",
    "    else:\n",
    "        # Si el año de entrada no correasponde a algún año de los que se hizo reseña (year_posted), retorna un mensaje de error.\n",
    "        if anio not in reviews_games['year_posted'].unique():\n",
    "            return f\"El año ingresado se encuentra fuera del rango de registros, intente nuevamente\"\n",
    "        \n",
    "        else:\n",
    "            # Filtramos el dataframe por las filas donde el año de posteo (year_posted) no es menor al año de publicación (year_release).\n",
    "            df = reviews_games[reviews_games['year_posted']>=reviews_games['year_release']]\n",
    "\n",
    "            # Filtramos el dataframe 'df' para el año de entrada y donde las columnas 'recommend' y 'sentiment_analysis' sean negativas (0) \n",
    "            df_anio = df[(df['year_posted']==anio) & (df['recommend']==0) & (df['sentiment_analysis']==0)]\n",
    "\n",
    "            # Agrupamos el dataframe 'df_anio' por el título del juego (title), contamos las recomendaciones (recommend) para obtener los juegos con más recomendaciones negativas, y ordenamos de forma descendente.\n",
    "            top = df_anio.groupby('title')['recommend'].count().sort_values(ascending=False)\n",
    "\n",
    "            # Construimos el top 3 de juegos más recomendados por los usuarios.\n",
    "            top_tres = [{\"Puesto 1\": top.index[0]}, {\"Puesto 2\": top.index[1]}, {\"Puesto 3\": top.index[2]}]\n",
    "\n",
    "    return top_tres"
   ]
  },
  {
   "cell_type": "code",
   "execution_count": 15,
   "metadata": {},
   "outputs": [
    {
     "data": {
      "text/plain": [
       "[{'Puesto 1': 'And Yet It Moves'},\n",
       " {'Puesto 2': 'Team Fortress 2'},\n",
       " {'Puesto 3': 'Men of War: Vietnam'}]"
      ]
     },
     "execution_count": 15,
     "metadata": {},
     "output_type": "execute_result"
    }
   ],
   "source": [
    "top_3 = UsersNotRecommend(2011)\n",
    "top_3"
   ]
  },
  {
   "cell_type": "markdown",
   "metadata": {},
   "source": [
    "5) sentiment_analysis"
   ]
  },
  {
   "cell_type": "code",
   "execution_count": 16,
   "metadata": {},
   "outputs": [],
   "source": [
    "def sentiment_analysis(anio: int):\n",
    "    '''\n",
    "    Según el año de lanzamiento, devuelve una lista con la cantidad de registros de reseñas de usuarios que se encuentren categorizados con un análisis de sentimiento\n",
    "\n",
    "    Args: \n",
    "        anio (int): año del que se quiere saber la cantidad de registros de reseñas de usuarios.\n",
    "\n",
    "    return:\n",
    "        list: lista con la cantidad de registros de reseñas de usuarios en ese año. Las cantidades están separadas por tipo de reseña (negativa, positiva y neutra)\n",
    "\n",
    "    '''\n",
    "    # Si el tipo de dato ingresado no es de tipo entero, retorna un mensaje de error.\n",
    "    if type(anio) != int:\n",
    "        return f\"El formato del dato ingresado es incorrecto, se espera una entrada del tipo 'int'\"\n",
    "    \n",
    "    else:\n",
    "        # Si el año de entrada no correasponde a algún año de los que se hizo reseña (year_posted), retorna un mensaje de error.\n",
    "        if anio not in reviews_games['year_posted'].unique():\n",
    "            return f\"El año ingresado se encuentra fuera del rango de registros, intente nuevamente\"\n",
    "        \n",
    "        else:\n",
    "            # Filtramos el dataframe con las filas cuyo año de posteo (year_posted) no es menor al año de publicación (year_release).\n",
    "            df = reviews_games[reviews_games['year_posted']>=reviews_games['year_release']]\n",
    "\n",
    "            # Filtramos el dataframe 'df' para el año de entrada.\n",
    "            df_anio = df[df['year_release'] == anio]\n",
    "\n",
    "            # Contamos las filas del dataframe 'df_anio' respecto a los valores únicos de la columna 'sentiment_analysis' (0, 1 y 2) y los agrupamos de acuerdo a su categoría.\n",
    "            positive = df_anio[df_anio['sentiment_analysis']==2].shape[0]  # Número de filas de sentimientos positivos (2)\n",
    "            neutral = df_anio[df_anio['sentiment_analysis']==1].shape[0]   # Número de filas de sentimientos neutros (1)\n",
    "            negative = df_anio[df_anio['sentiment_analysis']==0].shape[0]  # Número de filas de sentimientos negativos (0)\n",
    "\n",
    "    return {'Negative': negative, 'Neutral': neutral, 'Positive': positive}"
   ]
  },
  {
   "cell_type": "code",
   "execution_count": 17,
   "metadata": {},
   "outputs": [
    {
     "data": {
      "text/plain": [
       "{'Negative': 486, 'Neutral': 523, 'Positive': 2005}"
      ]
     },
     "execution_count": 17,
     "metadata": {},
     "output_type": "execute_result"
    }
   ],
   "source": [
    "sentimientos = sentiment_analysis(2010)\n",
    "sentimientos"
   ]
  }
 ],
 "metadata": {
  "kernelspec": {
   "display_name": "Python 3",
   "language": "python",
   "name": "python3"
  },
  "language_info": {
   "codemirror_mode": {
    "name": "ipython",
    "version": 3
   },
   "file_extension": ".py",
   "mimetype": "text/x-python",
   "name": "python",
   "nbconvert_exporter": "python",
   "pygments_lexer": "ipython3",
   "version": "3.11.4"
  }
 },
 "nbformat": 4,
 "nbformat_minor": 2
}
